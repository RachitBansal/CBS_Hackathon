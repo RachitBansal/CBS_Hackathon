{
  "nbformat": 4,
  "nbformat_minor": 0,
  "metadata": {
    "colab": {
      "name": "HackCBS3.ipynb",
      "provenance": [],
      "collapsed_sections": []
    },
    "kernelspec": {
      "name": "python3",
      "display_name": "Python 3"
    },
    "accelerator": "GPU"
  },
  "cells": [
    {
      "cell_type": "code",
      "metadata": {
        "id": "KeCg5DSdy2Se",
        "colab_type": "code",
        "colab": {
          "base_uri": "https://localhost:8080/",
          "height": 436
        },
        "outputId": "a46d9472-55ae-4d46-c324-b040d744aa9d"
      },
      "source": [
        "!pip install pytorch-pretrained-bert"
      ],
      "execution_count": 1,
      "outputs": [
        {
          "output_type": "stream",
          "text": [
            "Collecting pytorch-pretrained-bert\n",
            "\u001b[?25l  Downloading https://files.pythonhosted.org/packages/d7/e0/c08d5553b89973d9a240605b9c12404bcf8227590de62bae27acbcfe076b/pytorch_pretrained_bert-0.6.2-py3-none-any.whl (123kB)\n",
            "\u001b[K     |████████████████████████████████| 133kB 4.7MB/s \n",
            "\u001b[?25hRequirement already satisfied: requests in /usr/local/lib/python3.6/dist-packages (from pytorch-pretrained-bert) (2.21.0)\n",
            "Collecting regex (from pytorch-pretrained-bert)\n",
            "\u001b[?25l  Downloading https://files.pythonhosted.org/packages/ff/60/d9782c56ceefa76033a00e1f84cd8c586c75e6e7fea2cd45ee8b46a386c5/regex-2019.08.19-cp36-cp36m-manylinux1_x86_64.whl (643kB)\n",
            "\u001b[K     |████████████████████████████████| 645kB 42.5MB/s \n",
            "\u001b[?25hRequirement already satisfied: torch>=0.4.1 in /usr/local/lib/python3.6/dist-packages (from pytorch-pretrained-bert) (1.3.0+cu100)\n",
            "Requirement already satisfied: numpy in /usr/local/lib/python3.6/dist-packages (from pytorch-pretrained-bert) (1.16.5)\n",
            "Requirement already satisfied: tqdm in /usr/local/lib/python3.6/dist-packages (from pytorch-pretrained-bert) (4.28.1)\n",
            "Requirement already satisfied: boto3 in /usr/local/lib/python3.6/dist-packages (from pytorch-pretrained-bert) (1.9.250)\n",
            "Requirement already satisfied: idna<2.9,>=2.5 in /usr/local/lib/python3.6/dist-packages (from requests->pytorch-pretrained-bert) (2.8)\n",
            "Requirement already satisfied: certifi>=2017.4.17 in /usr/local/lib/python3.6/dist-packages (from requests->pytorch-pretrained-bert) (2019.9.11)\n",
            "Requirement already satisfied: chardet<3.1.0,>=3.0.2 in /usr/local/lib/python3.6/dist-packages (from requests->pytorch-pretrained-bert) (3.0.4)\n",
            "Requirement already satisfied: urllib3<1.25,>=1.21.1 in /usr/local/lib/python3.6/dist-packages (from requests->pytorch-pretrained-bert) (1.24.3)\n",
            "Requirement already satisfied: botocore<1.13.0,>=1.12.250 in /usr/local/lib/python3.6/dist-packages (from boto3->pytorch-pretrained-bert) (1.12.250)\n",
            "Requirement already satisfied: jmespath<1.0.0,>=0.7.1 in /usr/local/lib/python3.6/dist-packages (from boto3->pytorch-pretrained-bert) (0.9.4)\n",
            "Requirement already satisfied: s3transfer<0.3.0,>=0.2.0 in /usr/local/lib/python3.6/dist-packages (from boto3->pytorch-pretrained-bert) (0.2.1)\n",
            "Requirement already satisfied: docutils<0.16,>=0.10 in /usr/local/lib/python3.6/dist-packages (from botocore<1.13.0,>=1.12.250->boto3->pytorch-pretrained-bert) (0.15.2)\n",
            "Requirement already satisfied: python-dateutil<3.0.0,>=2.1; python_version >= \"2.7\" in /usr/local/lib/python3.6/dist-packages (from botocore<1.13.0,>=1.12.250->boto3->pytorch-pretrained-bert) (2.5.3)\n",
            "Requirement already satisfied: six>=1.5 in /usr/local/lib/python3.6/dist-packages (from python-dateutil<3.0.0,>=2.1; python_version >= \"2.7\"->botocore<1.13.0,>=1.12.250->boto3->pytorch-pretrained-bert) (1.12.0)\n",
            "Installing collected packages: regex, pytorch-pretrained-bert\n",
            "Successfully installed pytorch-pretrained-bert-0.6.2 regex-2019.8.19\n"
          ],
          "name": "stdout"
        }
      ]
    },
    {
      "cell_type": "code",
      "metadata": {
        "id": "oZ_AK1b-y3UO",
        "colab_type": "code",
        "colab": {
          "base_uri": "https://localhost:8080/",
          "height": 34
        },
        "outputId": "7e9985f5-cfc8-4c5c-96b0-795da7d6082b"
      },
      "source": [
        "import torch\n",
        "from pytorch_pretrained_bert import BertTokenizer, BertModel, BertForMaskedLM\n",
        "\n",
        "# OPTIONAL: if you want to have more information on what's happening, activate the logger as follows\n",
        "import logging\n",
        "#logging.basicConfig(level=logging.INFO)\n",
        "\n",
        "import matplotlib.pyplot as plt\n",
        "% matplotlib inline\n",
        "\n",
        "# Load pre-trained model tokenizer (vocabulary)\n",
        "tokenizer = BertTokenizer.from_pretrained('bert-base-uncased')"
      ],
      "execution_count": 2,
      "outputs": [
        {
          "output_type": "stream",
          "text": [
            "100%|██████████| 231508/231508 [00:00<00:00, 1165605.83B/s]\n"
          ],
          "name": "stderr"
        }
      ]
    },
    {
      "cell_type": "code",
      "metadata": {
        "id": "ln95t4xCy53a",
        "colab_type": "code",
        "colab": {}
      },
      "source": [
        "text = \"Here is the sentence I want embeddings for.\"\n",
        "text = \"After stealing money from the bank vault, the bank robber was seen fishing on the Mississippi river bank.\"\n",
        "marked_text = \"[CLS] \" + text + \" [SEP]\"\n",
        "tokenized_text = tokenizer.tokenize(marked_text)\n",
        "segments_ids = [1] * len(tokenized_text)\n",
        "indexed_tokens = tokenizer.convert_tokens_to_ids(tokenized_text)"
      ],
      "execution_count": 0,
      "outputs": []
    },
    {
      "cell_type": "code",
      "metadata": {
        "id": "FX981WQZrfKm",
        "colab_type": "code",
        "colab": {}
      },
      "source": [
        "dic = {\n",
        "'warranty listing' : '',\n",
        "\n",
        "\"Search Warranty Details\" : {\n",
        "\t\t  \"store\" : {\n",
        "\t\t\t\"id\" : \"<INTEGER>\",\n",
        "\t\t\t\"distributor\" : \"<INTEGER\"\n",
        "\t\t  },\n",
        "\t\t  \"product\": {\n",
        "\t\t\t\"name\": \"<STRING>\",\n",
        "\t\t\t\"brand\": \"<STRING>\",\n",
        "\t\t\t\"category\": \"<STRING>\",\n",
        "\t\t\t\"serial number\": \"<STRING>\",\n",
        "\t\t\t\"purchase date\": \"<STRING>\", #YYYY-mm-dd\n",
        "\t\t\t\"invoice\": \"<STRING>\",\n",
        "\t\t\t\"invoice image\": \"<STRING-URL:>\",\n",
        "      \"category id\": \"<INTEGER: product-category-id>\",\n",
        "      \"warranty invoice\" : \"<STRING-URL:>\",\n",
        "#       ''extra info\": ''<JSON>\",\n",
        "      \"coverage\":\"<INTEGER>\"\n",
        "      },\n",
        "    \n",
        "\t\t\"warranty\" : {\n",
        "\t\t\t\"activation code\" : \"<STRING>\",\n",
        "\t\t\t\"type\" : \"<STRING>\",\n",
        "\t\t\t\"purchase date\": \"<STRING>\",\n",
        "\t\t\t\"start date\": \"<STRING>\",\n",
        "\t\t\t\"end date\": \"<STRING>\",\n",
        "\t\t\t\"duration months\": \"<INTEGER>\",\n",
        "\t\t\t\"price\": \"<FLOAT>\",\n",
        "\t\t\t\"active\": \"<INTEGER>\", #0 or 1\n",
        "\t\t\t\"verified\": \"<INTEGER>\", #0 or 1 or 2\n",
        "\t\t\t\"is zapp enable\": \"<INTEGER>\", #is-zapp-enable\n",
        "\t\t\t\"region_id\" : \"<STRING>\",\n",
        "\t\t\t\"coupon code\" : \"<STRING>\",\n",
        "\t\t\t\"rm id\": \"<INTEGER>\",\n",
        "\t\t\t\"extra info\": \"<JSON>\",\n",
        "\t\t\t\"endorsement no\": \"<STRING>\",\n",
        "      \"oem id\": \"<INTEGER>\",\n",
        "\t\t\t\"cancellation at\": \"<STRING>\",\n",
        "\t\t\t\"cacellation done by\": \"<STRING>\",\n",
        "\t\t\t\"discrepancy reason\": \"<STRING>\",\n",
        "\t\t\t\"cancellation reason\": \"<STRING>\",\n",
        "\t\t\t\"cancellation role\": \"<STRING>\", \n",
        "\t\t\t\"serial number\": \"<STRING>\",\n",
        "\t\t\t\"status\": \"<INTEGER>\", \n",
        "\t\t  \"store assigned at\" :\"<STRING>\",\n",
        "\t    \"distributor assigned at\" :\"<STRING>\",\n",
        "\t\t  \"brand warranty duration months\": \"<INTEGER>\"\n",
        "\t\t},\n",
        "\t\t\"customer\": {\n",
        "\t\t\t\"name\": \"<STRING>\",\n",
        "\t\t\t\"email\": \"<STRING>\",\n",
        "\t\t\t\"phone contact\": \"<STRING>\",\n",
        "\t\t\t\"city\": \"<STRING>\",\n",
        "\t\t\t\"state\": \"<STRING>\",\n",
        "\t\t\t\"address\": \"<STRING>\",\n",
        "\t\t\t\"extrainfo\": \"<JSON>\"\n",
        "\t\t},\n",
        "\n",
        "\t\t\"Insured\" : {\n",
        "\t\t\t\"name\": \"<STRING>\",\n",
        "\t\t\t\"premium\": \"<STRING>\",\n",
        "\t\t\t\"contact\": \"<STRING>\",\n",
        "\t\t\t\"assigned date\": \"<STRING>\",\n",
        "\t\t\t\"state\": \"<STRING>\"\n",
        "\t\t}\n",
        "\n",
        "\t},\n",
        "\"Kit Detail\" :{\n",
        "\t\"status\": \"<INTEGER>\",\n",
        "\t\"discrepant reason\": \"<STRING>\",\n",
        "\t\"purchase date\": \"<DATE>\",\n",
        "\t\"sold value total premium amount\": \"<FLOAT>\",\n",
        "\t\"sold by\": \"<INTEGER>\",\n",
        "\t\"duration months\": \"<INTEGER>\",\n",
        "\t\"distributor id\" : \"<INTEGER>\",\n",
        "\t\"store id\": \"<INTEGER>\",\n",
        "\t\"customer\": {\n",
        "\t\t\"name\": \"<STRING>\",\n",
        "\t\t\"phone\": \"<STRING>\",\n",
        "\t\t\"email\": \"<STRING>\",\n",
        "\t\t\"address\": \"<STRING>\",\n",
        "\t\t\"city\" : \"<INTEGER>\",\n",
        "\t\t\"pincode\": \"<INTEGER>\"\n",
        "\t}},\n",
        "\"Register your Claim\" : {\n",
        "    \"warranty\" : \"<Integer>\",\n",
        "    \"item\"     :  \"<Integer>\",\n",
        "    \"claim type\" : \"<Integer>\",\n",
        "    \"concern\"   :  \"<STRING>\",\n",
        "    \"voice url\" :   \"<String>\",\n",
        "    \"phone\"      :  \"<String>\",\n",
        "    \"address\"     : \"<String>\",\n",
        "    \"remarks\"      :  \"<String>\",\n",
        "    \"appointment\"   :   \"<Integer>\",\n",
        "    \"extra info\"     :   \"<Json>\",\n",
        "\t  \"product\": \t{\n",
        "\t\t\"category id\": \"<INTEGER>\",\n",
        "\t\t\"brand\": \"<StringINTEGER:brand-id/name>\",\n",
        "\t\t\"model\": \"<INTEGER:model-idSTRING: model-name>\",\t\t\t\n",
        "\t\t\"purchase date\": \"<DATE>\",\n",
        "\t\t\"serial number\": \"<STRING>\",\n",
        "\t\t\"invoice image\": \"<IMAGE>\",\n",
        "    \"mime type\": \"<IMAGE>\",\n",
        "\t\t\"invoice number\": \"<STRING>\",\n",
        "\t\t\"product price\": \"<FLOAT>\",\n",
        "\t},\n",
        "\t\"payment\": {\n",
        "\t\t\"transactionid\": \"<STRING>\"\n",
        "\t}\n",
        "},\n",
        "\n",
        "'media upload' : '',\n",
        "\n",
        "'media download' : '' ,\n",
        "\n",
        "'create new warranty' : {\n",
        "\t\"premium\": \"<FLOAT>\", \n",
        "\t\"duration months\": \"<INTEGER>\", \n",
        "\t\"store\" : \"<INTEGER>\",\n",
        "\t\"extra info\" : \"<JSON: extra-informations OPTIONAL>\",\n",
        "\t\"purchased on\": \"<DATE>\",\n",
        "\t\"activation code\" : \"<STRING OPTIONAL>\",\n",
        "\t\"seller\": \"<STRING: name_of_warranty_seller OPTIONAL>\",\n",
        "  \"extra images\": {\n",
        "\t\t\"<image desc>\": \"<STRING IMAGE-reference>\", \n",
        "\t},\n",
        "\t\"customer\": {\n",
        "\t\t\"name\": \"<STRING>\",\n",
        "\t\t\"phone\": \"<STRING>\",\n",
        "\t\t\"email\": \"<STRING>\",\n",
        "\t\t\"address\": \"<STRING>\",\n",
        "\t\t\"city\": \"<INTEGER>\",\n",
        "\t\t\"pincode\": \"<INTEGER>\"\n",
        "\t},\n",
        "\t\"product\": \t{\n",
        "    \"category\": \"<INTEGER>\",\t\n",
        "\t\t\"brand\": \"<STRING>\",\n",
        "\t\t\"model\": \"<STRING>\",\n",
        "\t\t\"purchase date\": \"<DATE>\",\n",
        "\t\t\"serial number\": \"<STRING:serial-number>\",\n",
        "\t\t\"invoice image\": \"<IMAGE:invoice-image>\",\n",
        "\t\t\"invoice number\": \"<STRING:invoice-number>\",\n",
        "\t\t\"price\": \"<FLOAT>\",\n",
        "    \"brand warranty duration months\": \"<INTEGER>\" #in months\t\t\n",
        "\t }\n",
        "  }\n",
        "}"
      ],
      "execution_count": 0,
      "outputs": []
    },
    {
      "cell_type": "code",
      "metadata": {
        "id": "jlYGSkCwVDtk",
        "colab_type": "code",
        "colab": {}
      },
      "source": [
        "warranty_listing = ['what all warranties are available', 'list all warranties', 'warranties list', 'I want all warranties', 'all warranties']\n",
        "warranty_details = ['tell me my warranty details', 'give me my warranty details', 'warranty details', 'I want my warranty info', 'information regarding my warranty']\n",
        "kit_details = ['give me my warranty kit details', 'information regarding my warranty kit', 'warranty kit', 'my warranty kit']\n",
        "register_claim = ['please register claim', 'claim registration', 'register claim', 'I want to register a claim', 'registering new claim']\n",
        "media_upload = ['upload media', 'upload a file', 'file uploading', 'please upload my file', 'submit a media file']\n",
        "media_download = ['I want to get my file', 'download my file', 'file downloading', 'please download a file for me', 'extract media file']\n",
        "warranty_creation = ['create a new warranty', 'i want to create new warranty', 'new warranty', 'new warranty creation', 'please form a warranty for me']\n",
        "\n",
        "sent_keys = list(dic.keys())\n",
        "sentences = [warranty_listing, warranty_details, kit_details, register_claim, media_upload, media_download, warranty_creation]"
      ],
      "execution_count": 0,
      "outputs": []
    },
    {
      "cell_type": "code",
      "metadata": {
        "id": "Tbuy2k6xdIZ5",
        "colab_type": "code",
        "colab": {}
      },
      "source": [
        "def create(task_str):         # task_str: either warranty creation or claim registration\n",
        "  data_req = list(dic.get(\"create new warranty\").keys())\n",
        "  req_str = \"\"\n",
        "  for data_r in data_req:\n",
        "    if data_r not in list(prev_data.keys()):\n",
        "      req_str += str(data_r) + \" \"\n",
        "  chatbot_reply('Please enter the following details: ' + req_str)\n",
        "  data = person_reply_data(req_str)\n",
        "  prev_data[cust_id] = data\n",
        "    \n",
        "  # --- post request to create warranty using prev_data[cust_id] ------\n",
        "  \n",
        "def chatbot_reply(tbw):\n",
        "  print(\"Customer Care: \", tbw)\n",
        "  return \n",
        "\n",
        "# def person_reply_data(req_str):\n",
        "#   req_objs = req_str.split(\" \")\n",
        "  \n",
        "  \n",
        "  \n",
        "  \n",
        "def sentence_matching(query, sentences):\n",
        "  query_emb = model.encode(query)\n",
        "  sentences_emb = model.encode(sentences)\n",
        "  dot_prods = []\n",
        "  for sent in sentences_emb:\n",
        "    dot_prods.append(np.dot(query_emb, sent))\n",
        "  \n",
        "  return sentences[dot_prods.index(max(dot_prods))]\n",
        "\n",
        "\n",
        "# def extract_all_data(sentence):\n",
        "  "
      ],
      "execution_count": 0,
      "outputs": []
    },
    {
      "cell_type": "code",
      "metadata": {
        "id": "gHkyuAuhxXvc",
        "colab_type": "code",
        "colab": {
          "base_uri": "https://localhost:8080/",
          "height": 225
        },
        "outputId": "bc9c5985-6e94-481a-8ee8-219dbf9ad41c"
      },
      "source": [
        "list(dic.get(\"Register your Claim\").keys())"
      ],
      "execution_count": 19,
      "outputs": [
        {
          "output_type": "execute_result",
          "data": {
            "text/plain": [
              "['warranty',\n",
              " 'item',\n",
              " 'claim type',\n",
              " 'concern',\n",
              " 'voice url',\n",
              " 'phone',\n",
              " 'address',\n",
              " 'remarks',\n",
              " 'appointment',\n",
              " 'extra info',\n",
              " 'product',\n",
              " 'payment']"
            ]
          },
          "metadata": {
            "tags": []
          },
          "execution_count": 19
        }
      ]
    },
    {
      "cell_type": "code",
      "metadata": {
        "id": "jIAfiJvcuiRC",
        "colab_type": "code",
        "colab": {}
      },
      "source": [
        ""
      ],
      "execution_count": 0,
      "outputs": []
    }
  ]
}