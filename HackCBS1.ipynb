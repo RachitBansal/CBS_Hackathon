{
  "nbformat": 4,
  "nbformat_minor": 0,
  "metadata": {
    "colab": {
      "name": "HackCBS1.ipynb",
      "provenance": [],
      "collapsed_sections": [],
      "include_colab_link": true
    },
    "kernelspec": {
      "name": "python3",
      "display_name": "Python 3"
    }
  },
  "cells": [
    {
      "cell_type": "markdown",
      "metadata": {
        "id": "view-in-github",
        "colab_type": "text"
      },
      "source": [
        "<a href=\"https://colab.research.google.com/github/RachitBansal/CBS_Hackathon/blob/master/HackCBS1.ipynb\" target=\"_parent\"><img src=\"https://colab.research.google.com/assets/colab-badge.svg\" alt=\"Open In Colab\"/></a>"
      ]
    },
    {
      "cell_type": "code",
      "metadata": {
        "id": "-twSSBXt312y",
        "colab_type": "code",
        "colab": {}
      },
      "source": [
        "!pip install pytorch-pretrained-bert"
      ],
      "execution_count": 0,
      "outputs": []
    },
    {
      "cell_type": "code",
      "metadata": {
        "id": "snCikJgQ8tAF",
        "colab_type": "code",
        "outputId": "c635a009-209f-4b83-e613-9a2140a5d6e3",
        "colab": {
          "base_uri": "https://localhost:8080/",
          "height": 35
        }
      },
      "source": [
        "import torch\n",
        "from pytorch_pretrained_bert import BertTokenizer, BertModel, BertForMaskedLM\n",
        "\n",
        "# OPTIONAL: if you want to have more information on what's happening, activate the logger as follows\n",
        "import logging\n",
        "#logging.basicConfig(level=logging.INFO)\n",
        "\n",
        "import matplotlib.pyplot as plt\n",
        "% matplotlib inline\n",
        "\n",
        "# Load pre-trained model tokenizer (vocabulary)\n",
        "tokenizer = BertTokenizer.from_pretrained('bert-base-uncased')"
      ],
      "execution_count": 0,
      "outputs": [
        {
          "output_type": "stream",
          "text": [
            "100%|██████████| 231508/231508 [00:00<00:00, 5692498.04B/s]\n"
          ],
          "name": "stderr"
        }
      ]
    },
    {
      "cell_type": "code",
      "metadata": {
        "id": "8vTL88NG8gEM",
        "colab_type": "code",
        "colab": {}
      },
      "source": [
        "text = \"Here is the sentence I want embeddings for.\"\n",
        "text = \"After stealing money from the bank vault, the bank robber was seen fishing on the Mississippi river bank.\"\n",
        "marked_text = \"[CLS] \" + text + \" [SEP]\"\n",
        "tokenized_text = tokenizer.tokenize(marked_text)\n",
        "segments_ids = [1] * len(tokenized_text)\n",
        "indexed_tokens = tokenizer.convert_tokens_to_ids(tokenized_text)"
      ],
      "execution_count": 0,
      "outputs": []
    },
    {
      "cell_type": "code",
      "metadata": {
        "id": "lrIAqJHk9P-U",
        "colab_type": "code",
        "colab": {}
      },
      "source": [
        "tokens_tensor = torch.tensor([indexed_tokens])\n",
        "segments_tensors = torch.tensor([segments_ids])\n",
        "\n",
        "# Load pre-trained model (weights)\n",
        "model = BertModel.from_pretrained('bert-base-uncased')\n",
        "\n",
        "# Put the model in \"evaluation\" mode, meaning feed-forward operation.\n",
        "model.eval()"
      ],
      "execution_count": 0,
      "outputs": []
    },
    {
      "cell_type": "code",
      "metadata": {
        "id": "B-mj47ik-AGA",
        "colab_type": "code",
        "colab": {}
      },
      "source": [
        "with torch.no_grad():\n",
        "    encoded_layers, _ = model(tokens_tensor, segments_tensors)"
      ],
      "execution_count": 0,
      "outputs": []
    },
    {
      "cell_type": "code",
      "metadata": {
        "id": "Fw5nCaxaAZp_",
        "colab_type": "code",
        "colab": {}
      },
      "source": [
        "layer_i = 0\n",
        "batch_i = 0\n",
        "token_i = 0"
      ],
      "execution_count": 0,
      "outputs": []
    },
    {
      "cell_type": "code",
      "metadata": {
        "id": "5QCHCAG4-wlj",
        "colab_type": "code",
        "outputId": "6304d51b-4276-4bd2-a796-661083283ed4",
        "colab": {
          "base_uri": "https://localhost:8080/",
          "height": 53
        }
      },
      "source": [
        "token_embeddings = [] \n",
        "\n",
        "# For each token in the sentence...\n",
        "for token_i in range(len(tokenized_text)):\n",
        "  \n",
        "  # Holds 12 layers of hidden states for each token \n",
        "  hidden_layers = [] \n",
        "  \n",
        "  # For each of the 12 layers...\n",
        "  for layer_i in range(len(encoded_layers)):\n",
        "    \n",
        "    # Lookup the vector for `token_i` in `layer_i`\n",
        "    vec = encoded_layers[layer_i][batch_i][token_i]\n",
        "    \n",
        "    hidden_layers.append(vec)\n",
        "    \n",
        "  token_embeddings.append(hidden_layers)\n",
        "\n",
        "# Sanity check the dimensions:\n",
        "print (\"Number of tokens in sequence:\", len(token_embeddings))\n",
        "print (\"Number of layers per token:\", len(token_embeddings[0]))"
      ],
      "execution_count": 0,
      "outputs": [
        {
          "output_type": "stream",
          "text": [
            "Number of tokens in sequence: 22\n",
            "Number of layers per token: 12\n"
          ],
          "name": "stdout"
        }
      ]
    },
    {
      "cell_type": "code",
      "metadata": {
        "id": "wJHJH1UlGiVa",
        "colab_type": "code",
        "colab": {}
      },
      "source": [
        "!pip install -U sentence-transformers"
      ],
      "execution_count": 0,
      "outputs": []
    },
    {
      "cell_type": "code",
      "metadata": {
        "id": "-5zpH0LrGy7_",
        "colab_type": "code",
        "colab": {}
      },
      "source": [
        "from sentence_transformers import SentenceTransformer\n",
        "model = SentenceTransformer('bert-base-nli-mean-tokens')"
      ],
      "execution_count": 0,
      "outputs": []
    },
    {
      "cell_type": "code",
      "metadata": {
        "id": "M_YdZKvXnsZ6",
        "colab_type": "code",
        "outputId": "78bb1d44-f989-4cbe-9bab-66603001fcec",
        "colab": {
          "base_uri": "https://localhost:8080/",
          "height": 35
        }
      },
      "source": [
        "sent = [\"I am Jeevesh Juneja . \"]\n",
        "embedding = model.encode(sent)\n",
        "print(len(embedding))"
      ],
      "execution_count": 0,
      "outputs": [
        {
          "output_type": "stream",
          "text": [
            "1\n"
          ],
          "name": "stdout"
        }
      ]
    },
    {
      "cell_type": "code",
      "metadata": {
        "id": "6apfxqiJHTPI",
        "colab_type": "code",
        "outputId": "b8f42c1d-6300-4e61-f69b-a2c392a91468",
        "colab": {
          "base_uri": "https://localhost:8080/",
          "height": 88
        }
      },
      "source": [
        "import numpy as np\n",
        "import scipy\n",
        "import scipy.cluster.vq\n",
        "renew_sentences = ['I want to renew my policy . ', 'I want my policy renewed as soon as possible', 'How can i get my policy renewed?']\n",
        "new_sentences = ['I want to get a new policy.',\"I read about your new policy and now i can't wait to get it\",\"I came across this new policy of yours about cars, can i get it?\"]\n",
        "check_sentences = ['How soon can i renew my policy?' , 'I read about this accident in the news, i was a victim there , can i get the new policy']\n",
        "corpus = renew_sentences + new_sentences + check_sentences\n",
        "corpus_embeddings = model.encode(corpus)\n",
        "embeddings = []\n",
        "for embedding in corpus_embeddings :\n",
        "  embeddings.append(np.array(embedding))\n",
        "print(np.dot(embeddings[6],embeddings[0])+np.dot(embeddings[6],embeddings[1])+np.dot(embeddings[6],embeddings[2]))\n",
        "print(np.dot(embeddings[7],embeddings[0])+np.dot(embeddings[7],embeddings[1])+np.dot(embeddings[7],embeddings[2]))\n",
        "print(np.dot(embeddings[6],embeddings[3])+np.dot(embeddings[6],embeddings[4])+np.dot(embeddings[6],embeddings[5]))\n",
        "print(np.dot(embeddings[7],embeddings[3])+np.dot(embeddings[7],embeddings[4])+np.dot(embeddings[7],embeddings[5]))"
      ],
      "execution_count": 0,
      "outputs": [
        {
          "output_type": "stream",
          "text": [
            "674.24854\n",
            "238.70427\n",
            "488.1926\n",
            "326.747\n"
          ],
          "name": "stdout"
        }
      ]
    },
    {
      "cell_type": "code",
      "metadata": {
        "id": "T4OiEE6Whyqu",
        "colab_type": "code",
        "colab": {}
      },
      "source": [
        "import requests \n",
        "\n",
        "URL = '54.173.118.186/accounts/login'\n",
        "\n",
        "data = { 'username' : ''\n",
        "         'password' : ''\n",
        "         'otp' : ''\n",
        "         'businesstype' : ''}\n",
        "r = requests.post( url=URL, data=data )\n",
        "\n",
        "r = "
      ],
      "execution_count": 0,
      "outputs": []
    },
    {
      "cell_type": "code",
      "metadata": {
        "id": "Whe3KhcrxCl3",
        "colab_type": "code",
        "colab": {}
      },
      "source": [
        "info_we_have = {}"
      ],
      "execution_count": 0,
      "outputs": []
    },
    {
      "cell_type": "code",
      "metadata": {
        "id": "AXC-uMOJ7pbt",
        "colab_type": "code",
        "colab": {}
      },
      "source": [
        "kit_details = ['status', 'discrepant reason', 'purchase date', 'sold value', 'sold by', 'duration', 'distributor', 'store', 'payment']\n"
      ],
      "execution_count": 0,
      "outputs": []
    },
    {
      "cell_type": "code",
      "metadata": {
        "id": "-ibS3SBHZZlR",
        "colab_type": "code",
        "colab": {}
      },
      "source": [
        "def get_max_similarity(sentence, features) :\n",
        "  sentence_embeddings = model.encode(sentence)\n",
        "  feature_embeddings = model.encode(feature)\n",
        "  lis = []\n",
        "  for feature in feature_embeddings :\n",
        "    lis.append(np.dot(sentence_embeddings[0],feature))\n",
        "  i = lis.index(max(lis))\n",
        "  lis = sort(lis)\n",
        "  print(lis[0:5])\n",
        "  return features[i]  #Or return list of features accoding to some threshold\n",
        "\n",
        "def update_feature(s, val) :\n",
        "  info_we_have[s] = val\n",
        "\n",
        "def get_feature(s) :\n",
        "  if s in info_we_have.keys() :\n",
        "    return info_we_have[s]\n",
        "  return -1\n",
        "\n",
        "def kit_particular_details(sentence) :\n",
        "  lis = get_max_similarity(sentence, kit_details)\n",
        "  i = get_feature('kit_id') \n",
        "  kit = requests.get('23.22.237.185/zopperassure/kit/'+str(i))\n",
        "  kit_details = kit.json()\n",
        "  for feature in lis :\n",
        "    print(feature)\n",
        "    print(kit_details[feature])\n",
        "\n",
        "def warranty_particular_details(sentence) :\n",
        "  lis = get_max_similarity(sentence, warranty_details)\n",
        "  i = get_feature('kit_id') \n",
        "  kit = requests.get('23.22.237.185/zopperassure/kit/'+str(i))\n",
        "  kit_details = kit.json()\n",
        "  for feature in lis :\n",
        "    print(feature)\n",
        "    print(kit_details[feature])\n",
        "\n",
        "def store_info(key,value) :\n",
        "\n",
        "def create_warranty() :\n",
        "  "
      ],
      "execution_count": 0,
      "outputs": []
    },
    {
      "cell_type": "code",
      "metadata": {
        "id": "eXW09AcCY3oK",
        "colab_type": "code",
        "colab": {}
      },
      "source": [
        "warranty_creation = []#sentences asking to create new warranty\n",
        "kit_details = ['What is the status of my kit?','discrepant reason']#sentences asking to get kit details\n",
        "warranty_details = []#sentences asking to get warranty details\n",
        "submit_claim = []#sentences asking for submitting a claim\n",
        "\n"
      ],
      "execution_count": 0,
      "outputs": []
    },
    {
      "cell_type": "code",
      "metadata": {
        "id": "SCl3TFn-TGFz",
        "colab_type": "code",
        "colab": {}
      },
      "source": [
        "dic = {'create new warranty' : {\n",
        "\t\"premium\": \"<FLOAT>\", \n",
        "\t\"duration months\": \"<INTEGER>\", \n",
        "\t\"store\" : “<INTEGER>”,\n",
        "\t#\"extrainfo\" : \"<JSON: extra-informations OPTIONAL>\",\n",
        "\t\"purchased_on\": \"<DATE>\",\n",
        "\t\"activation_code\" : \"<STRING OPTIONAL>\",\n",
        "\t\"seller\": \"<STRING: name_of_warranty_seller OPTIONAL>\",\n",
        "  #\"extra_images\": {\n",
        "\t#\t\"<image desc>\": \"<STRING IMAGE-reference>\", \n",
        "\t#}\n",
        "  ,\n",
        "\t\"customer\": {\n",
        "\t\t\"name\": \"<STRING>\",\n",
        "\t\t\"phone\": \"<STRING>\",\n",
        "\t\t\"email\": \"<STRING>\",\n",
        "\t\t\"address\": \"<STRING>\",\n",
        "\t\t\"city\": \"<INTEGER>\",\n",
        "\t\t\"pincode\": \"<INTEGER>\"\n",
        "\t},\n",
        "\t\"product\": \t{\n",
        "    \"category\": \"<INTEGER>\",\t\n",
        "\t\t\"brand\": \"<STRING>\",\n",
        "\t\t\"model\": \"<STRING>\",\n",
        "\t\t\"purchase date\": \"<DATE>\",\n",
        "\t\t\"serial number\": \"<STRING:serial-number>\",\n",
        "\t\t\"invoice image\": \"<IMAGE:invoice-image>\",\n",
        "\t\t\"invoice number\": \"<STRING:invoice-number>\",\n",
        "\t\t\"price\": \"<FLOAT>\",\n",
        "    \"brand warranty duration months\": \"<INTEGER>\" #in months\t\t\n",
        "\t}\n",
        "}\n",
        "\"Register your Claim\" : {\n",
        "    \"warranty\" : \"<Integer>\",\n",
        "    \"item\"     :  \"<Integer>\",\n",
        "    \"claim type\" : \"<Integer>\",\n",
        "    \"concern\"   :  \"<STRING>\",\n",
        "    \"voice url\" :   \"<String>\",\n",
        "    \"phone\"      :  \"<String>\",\n",
        "    \"address\"     : \"<String>\",\n",
        "    \"remarks\"      :  \"<String>\",\n",
        "    \"appointment\"   :   \"<Integer>\",\n",
        "    \"extra info\"     :   \"<Json>\"\n",
        "}\n",
        "\"Search Warranty Details\" : {\n",
        "\t\t  \"store\" : {\n",
        "\t\t\t\"id\": \"<INTEGER>\",\n",
        "\t\t\t\"distributor\" : \"<INTEGER\"\n",
        "\t\t  },\n",
        "\t\t  \"product\": {\n",
        "\t\t\t\"name\": \"<STRING>\",\n",
        "\t\t\t\"brand\": \"<STRING>\",\n",
        "\t\t\t\"category\": \"<STRING>\",\n",
        "\t\t\t\"serial number\": \"<STRING>\",\n",
        "\t\t\t\"purchase date\": \"<STRING>\", #YYYY-mm-dd\n",
        "\t\t\t\"invoice\": \"<STRING>\",\n",
        "\t\t\t\"invoice image\": \"<STRING-URL:>\",\n",
        "      \"category id\": \"<INTEGER: product-category-id>\",\n",
        "      \"warranty invoice\":\"<STRING-URL>\",\n",
        "      “extrainfo”: “<JSON: extra-info>”,\n",
        "      “coverage” : “<INTEGER>”\n",
        "\t\t},\n",
        "\t\t\"warranty\" : {\n",
        "\t\t\t\"activation code\" : \"<STRING>\",\n",
        "\t\t\t\"type\" : \"<STRING>\",\n",
        "\t\t\t\"purchase date\": \"<STRING>\",\n",
        "\t\t\t\"start date\": \"<STRING>\",\n",
        "\t\t\t\"end date\": \"<STRING>\",\n",
        "\t\t\t\"duration months\": \"<INTEGER>\",\n",
        "\t\t\t\"price\": \"<FLOAT>\",\n",
        "\t\t\t\"active\": \"<INTEGER>\", #0 or 1\n",
        "\t\t\t\"verified\": \"<INTEGER>\", #0 or 1 or 2\n",
        "\t\t\t\"is zapp enable\": \"<INTEGER>\", #is-zapp-enable\n",
        "\t\t\t“region id” : \"<STRING>\",\n",
        "\t\t\t“coupon code” : \"<STRING>\",\n",
        "\t\t\t“rm id”: \"<INTEGER>\",\n",
        "\t\t\t“extra info”: \"<JSON>\",\n",
        "\t\t\t“endorsement no”: \"<STRING>\",\n",
        "      “oem id”: \"<INTEGER>\",\n",
        "\t\t\t“cancellation at”: \"<STRING>\",\n",
        "\t\t\t“cacellation done by”: “<STRING>”,\n",
        "\t\t\t“discrepancy reason”: “<STRING>”,\n",
        "\t\t\t“cancellation reason”: “<STRING>”,\n",
        "\t\t\t“cancellation role”: “<STRING>”, \n",
        "\t\t\t“serial number”: “<STRING>”,\n",
        "\t\t\t“status”: “<INTEGER>”, \n",
        "\t\t  “store assigned at” :“<STRING>”,\n",
        "\t    “distributor assigned at” :“<STRING>”\n",
        "\t\t  “brand warranty duration months”: “<INTEGER>”\n",
        "\t\t},\n",
        "\t\t\"customer\": {\n",
        "\t\t\t\"name\": \"<STRING>\",\n",
        "\t\t\t\"email\": \"<STRING>\",\n",
        "\t\t\t\"phone contact\": \"<STRING>\",\n",
        "\t\t\t\"city\": \"<STRING>\",\n",
        "\t\t\t\"state\": \"<STRING>\",\n",
        "\t\t\t\"address\": \"<STRING>\",\n",
        "\t\t\t\"extrainfo\": \"<JSON>\"\n",
        "\t\t},\n",
        "\n",
        "\t\t\"Insured\" : {\n",
        "\t\t\t\"name\": \"<STRING>\",\n",
        "\t\t\t\"premium”: \"<STRING>\",\n",
        "\t\t\t\"contact\": \"<STRING>\",\n",
        "\t\t\t\"assigned date”: \"<STRING>\",\n",
        "\t\t\t\"state\": \"<STRING>\",\n",
        "\t\t}\n",
        "\n",
        "\t},\n",
        "  \"Kit Detail\" :{\n",
        "\t\"status\": \"<INTEGER>\",\n",
        "\t\"discrepant reason\": \"<STRING>\",\n",
        "\t\"purchase date\": \"<DATE>\",\n",
        "\t\"sold value total premium amount\": \"<FLOAT>\",\n",
        "\t\"sold by\": \"<INTEGER>\",\n",
        "\t\"duration months\": \"<INTEGER>\",\n",
        "\t\"distributor id\" : \"<INTEGER>\",\n",
        "\t\"store id\": \"<INTEGER>\",\n",
        "\t\"customer\": {\n",
        "\t\t\"name\": \"<STRING>\",\n",
        "\t\t\"phone\": \"<STRING>\",\n",
        "\t\t\"email\": \"<STRING>\",\n",
        "\t\t\"address\": \"<STRING>\",\n",
        "\t\t“city” : \"<INTEGER>\",\n",
        "\t\t\"pincode\": \"<INTEGER>\"\n",
        "\t},\n",
        "\t\"product\": \t{\n",
        "\t\t\"category id\": \"<INTEGER>\",\n",
        "\t\t\"brand\": <StringINTEGER:brand-id/name>,\n",
        "\t\t\"model\": <INTEGER:model-idSTRING: model-name>,\t\t\t\n",
        "\t\t\"purchase date\": \"<DATE>\",\n",
        "\t\t\"serial number\": \"<STRING>\",\n",
        "\t\t\"invoice image\": \"<IMAGE>\",\n",
        "    \"mime type\": \"<IMAGE>\",\n",
        "\t\t\"invoice number\": \"<STRING>\",\n",
        "\t\t\"product price\": \"<FLOAT>\",\n",
        "\t},\n",
        "\t\"payment\": {\n",
        "\t\t\"transactionid\": \"<STRING>\"\n",
        "\t}\n",
        "}\n",
        "}\n"
      ],
      "execution_count": 0,
      "outputs": []
    },
    {
      "cell_type": "code",
      "metadata": {
        "id": "smpOSoRhagMN",
        "colab_type": "code",
        "colab": {}
      },
      "source": [
        ""
      ],
      "execution_count": 0,
      "outputs": []
    }
  ]
}