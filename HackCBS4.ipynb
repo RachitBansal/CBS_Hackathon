{
  "nbformat": 4,
  "nbformat_minor": 0,
  "metadata": {
    "colab": {
      "name": "HackCBS1.ipynb",
      "provenance": [],
      "collapsed_sections": [],
      "include_colab_link": true
    },
    "kernelspec": {
      "display_name": "Python 3",
      "language": "python",
      "name": "python3"
    },
    "language_info": {
      "codemirror_mode": {
        "name": "ipython",
        "version": 3
      },
      "file_extension": ".py",
      "mimetype": "text/x-python",
      "name": "python",
      "nbconvert_exporter": "python",
      "pygments_lexer": "ipython3",
      "version": "3.7.3"
    }
  },
  "cells": [
    {
      "cell_type": "markdown",
      "metadata": {
        "id": "view-in-github",
        "colab_type": "text"
      },
      "source": [
        "<a href=\"https://colab.research.google.com/github/RachitBansal/CBS_Hackathon/blob/master/HackCBS4.ipynb\" target=\"_parent\"><img src=\"https://colab.research.google.com/assets/colab-badge.svg\" alt=\"Open In Colab\"/></a>"
      ]
    },
    {
      "cell_type": "code",
      "metadata": {
        "colab_type": "code",
        "id": "wJHJH1UlGiVa",
        "colab": {
          "base_uri": "https://localhost:8080/",
          "height": 697
        },
        "outputId": "4b673ec4-2ff4-42e4-ff30-a08d788e2dc1"
      },
      "source": [
        "!pip install -U sentence-transformers"
      ],
      "execution_count": 2,
      "outputs": [
        {
          "output_type": "stream",
          "text": [
            "Collecting sentence-transformers\n",
            "\u001b[?25l  Downloading https://files.pythonhosted.org/packages/85/17/9edba42c29fda04f2eb8597bb4de380f0f43d65e317969070c04510d93eb/sentence-transformers-0.2.3.tar.gz (45kB)\n",
            "\u001b[K     |████████████████████████████████| 51kB 2.5MB/s \n",
            "\u001b[?25hCollecting pytorch-transformers==1.1.0 (from sentence-transformers)\n",
            "\u001b[?25l  Downloading https://files.pythonhosted.org/packages/50/89/ad0d6bb932d0a51793eaabcf1617a36ff530dc9ab9e38f765a35dc293306/pytorch_transformers-1.1.0-py3-none-any.whl (158kB)\n",
            "\u001b[K     |████████████████████████████████| 163kB 10.1MB/s \n",
            "\u001b[?25hRequirement already satisfied, skipping upgrade: tqdm in /usr/local/lib/python3.6/dist-packages (from sentence-transformers) (4.28.1)\n",
            "Requirement already satisfied, skipping upgrade: torch>=1.0.1 in /usr/local/lib/python3.6/dist-packages (from sentence-transformers) (1.3.0+cu100)\n",
            "Requirement already satisfied, skipping upgrade: numpy in /usr/local/lib/python3.6/dist-packages (from sentence-transformers) (1.16.5)\n",
            "Requirement already satisfied, skipping upgrade: scikit-learn in /usr/local/lib/python3.6/dist-packages (from sentence-transformers) (0.21.3)\n",
            "Requirement already satisfied, skipping upgrade: scipy in /usr/local/lib/python3.6/dist-packages (from sentence-transformers) (1.3.1)\n",
            "Requirement already satisfied, skipping upgrade: nltk in /usr/local/lib/python3.6/dist-packages (from sentence-transformers) (3.2.5)\n",
            "Requirement already satisfied, skipping upgrade: boto3 in /usr/local/lib/python3.6/dist-packages (from pytorch-transformers==1.1.0->sentence-transformers) (1.9.250)\n",
            "Collecting sentencepiece (from pytorch-transformers==1.1.0->sentence-transformers)\n",
            "\u001b[?25l  Downloading https://files.pythonhosted.org/packages/14/3d/efb655a670b98f62ec32d66954e1109f403db4d937c50d779a75b9763a29/sentencepiece-0.1.83-cp36-cp36m-manylinux1_x86_64.whl (1.0MB)\n",
            "\u001b[K     |████████████████████████████████| 1.0MB 43.8MB/s \n",
            "\u001b[?25hRequirement already satisfied, skipping upgrade: requests in /usr/local/lib/python3.6/dist-packages (from pytorch-transformers==1.1.0->sentence-transformers) (2.21.0)\n",
            "Collecting regex (from pytorch-transformers==1.1.0->sentence-transformers)\n",
            "\u001b[?25l  Downloading https://files.pythonhosted.org/packages/ff/60/d9782c56ceefa76033a00e1f84cd8c586c75e6e7fea2cd45ee8b46a386c5/regex-2019.08.19-cp36-cp36m-manylinux1_x86_64.whl (643kB)\n",
            "\u001b[K     |████████████████████████████████| 645kB 42.7MB/s \n",
            "\u001b[?25hRequirement already satisfied, skipping upgrade: joblib>=0.11 in /usr/local/lib/python3.6/dist-packages (from scikit-learn->sentence-transformers) (0.14.0)\n",
            "Requirement already satisfied, skipping upgrade: six in /usr/local/lib/python3.6/dist-packages (from nltk->sentence-transformers) (1.12.0)\n",
            "Requirement already satisfied, skipping upgrade: botocore<1.13.0,>=1.12.250 in /usr/local/lib/python3.6/dist-packages (from boto3->pytorch-transformers==1.1.0->sentence-transformers) (1.12.250)\n",
            "Requirement already satisfied, skipping upgrade: s3transfer<0.3.0,>=0.2.0 in /usr/local/lib/python3.6/dist-packages (from boto3->pytorch-transformers==1.1.0->sentence-transformers) (0.2.1)\n",
            "Requirement already satisfied, skipping upgrade: jmespath<1.0.0,>=0.7.1 in /usr/local/lib/python3.6/dist-packages (from boto3->pytorch-transformers==1.1.0->sentence-transformers) (0.9.4)\n",
            "Requirement already satisfied, skipping upgrade: idna<2.9,>=2.5 in /usr/local/lib/python3.6/dist-packages (from requests->pytorch-transformers==1.1.0->sentence-transformers) (2.8)\n",
            "Requirement already satisfied, skipping upgrade: certifi>=2017.4.17 in /usr/local/lib/python3.6/dist-packages (from requests->pytorch-transformers==1.1.0->sentence-transformers) (2019.9.11)\n",
            "Requirement already satisfied, skipping upgrade: chardet<3.1.0,>=3.0.2 in /usr/local/lib/python3.6/dist-packages (from requests->pytorch-transformers==1.1.0->sentence-transformers) (3.0.4)\n",
            "Requirement already satisfied, skipping upgrade: urllib3<1.25,>=1.21.1 in /usr/local/lib/python3.6/dist-packages (from requests->pytorch-transformers==1.1.0->sentence-transformers) (1.24.3)\n",
            "Requirement already satisfied, skipping upgrade: python-dateutil<3.0.0,>=2.1; python_version >= \"2.7\" in /usr/local/lib/python3.6/dist-packages (from botocore<1.13.0,>=1.12.250->boto3->pytorch-transformers==1.1.0->sentence-transformers) (2.5.3)\n",
            "Requirement already satisfied, skipping upgrade: docutils<0.16,>=0.10 in /usr/local/lib/python3.6/dist-packages (from botocore<1.13.0,>=1.12.250->boto3->pytorch-transformers==1.1.0->sentence-transformers) (0.15.2)\n",
            "Building wheels for collected packages: sentence-transformers\n",
            "  Building wheel for sentence-transformers (setup.py) ... \u001b[?25l\u001b[?25hdone\n",
            "  Created wheel for sentence-transformers: filename=sentence_transformers-0.2.3-cp36-none-any.whl size=57413 sha256=7e50fd65fb2cae35893688ead19cdeff361cdad8b4295b72862ca346aeca8ad7\n",
            "  Stored in directory: /root/.cache/pip/wheels/20/89/88/95d8a3d4034bb77f52a6f66efdbfc623240221183dc0001c31\n",
            "Successfully built sentence-transformers\n",
            "Installing collected packages: sentencepiece, regex, pytorch-transformers, sentence-transformers\n",
            "Successfully installed pytorch-transformers-1.1.0 regex-2019.8.19 sentence-transformers-0.2.3 sentencepiece-0.1.83\n"
          ],
          "name": "stdout"
        }
      ]
    },
    {
      "cell_type": "code",
      "metadata": {
        "colab_type": "code",
        "id": "-5zpH0LrGy7_",
        "colab": {
          "base_uri": "https://localhost:8080/",
          "height": 34
        },
        "outputId": "0a4293a3-fae5-4058-f0ba-7fb80d812997"
      },
      "source": [
        "from sentence_transformers import SentenceTransformer\n",
        "model = SentenceTransformer('bert-base-nli-mean-tokens')"
      ],
      "execution_count": 3,
      "outputs": [
        {
          "output_type": "stream",
          "text": [
            "100%|██████████| 405M/405M [00:19<00:00, 21.0MB/s]\n"
          ],
          "name": "stderr"
        }
      ]
    },
    {
      "cell_type": "code",
      "metadata": {
        "colab_type": "code",
        "id": "M_YdZKvXnsZ6",
        "outputId": "a68aa9a7-53e0-4f7e-99f8-0ae9645e1d0b",
        "colab": {
          "base_uri": "https://localhost:8080/",
          "height": 34
        }
      },
      "source": [
        "sent = [\"I am Jeevesh Juneja . \"]\n",
        "embedding = model.encode(sent)\n",
        "print(len(embedding))"
      ],
      "execution_count": 4,
      "outputs": [
        {
          "output_type": "stream",
          "text": [
            "1\n"
          ],
          "name": "stdout"
        }
      ]
    },
    {
      "cell_type": "code",
      "metadata": {
        "colab_type": "code",
        "id": "6apfxqiJHTPI",
        "outputId": "ff9eae14-8124-45c9-81a4-8e317c4f20a3",
        "colab": {
          "base_uri": "https://localhost:8080/",
          "height": 86
        }
      },
      "source": [
        "import numpy as np\n",
        "renew_sentences = ['I want to renew my policy . ', 'I want my policy renewed as soon as possible', 'How can i get my policy renewed?']\n",
        "new_sentences = ['I want to get a new policy.',\"I read about your new policy and now i can't wait to get it\",\"I came across this new policy of yours about cars, can i get it?\"]\n",
        "check_sentences = ['How soon can i renew my policy?' , 'I read about this accident in the news, i was a victim there , can i get the new policy']\n",
        "corpus = renew_sentences + new_sentences + check_sentences\n",
        "corpus_embeddings = model.encode(corpus)\n",
        "embeddings = []\n",
        "for embedding in corpus_embeddings :\n",
        "  embeddings.append(np.array(embedding))\n",
        "print(np.dot(embeddings[6],embeddings[0])+np.dot(embeddings[6],embeddings[1])+np.dot(embeddings[6],embeddings[2]))\n",
        "print(np.dot(embeddings[7],embeddings[0])+np.dot(embeddings[7],embeddings[1])+np.dot(embeddings[7],embeddings[2]))\n",
        "print(np.dot(embeddings[6],embeddings[3])+np.dot(embeddings[6],embeddings[4])+np.dot(embeddings[6],embeddings[5]))\n",
        "print(np.dot(embeddings[7],embeddings[3])+np.dot(embeddings[7],embeddings[4])+np.dot(embeddings[7],embeddings[5]))"
      ],
      "execution_count": 5,
      "outputs": [
        {
          "output_type": "stream",
          "text": [
            "674.24854\n",
            "238.70427\n",
            "488.1926\n",
            "326.747\n"
          ],
          "name": "stdout"
        }
      ]
    },
    {
      "cell_type": "code",
      "metadata": {
        "colab_type": "code",
        "id": "T4OiEE6Whyqu",
        "colab": {}
      },
      "source": [
        "import requests \n",
        "\n",
        "URL = '54.173.118.186/accounts/login'\n",
        "\n",
        "data = { 'username' : ''\n",
        "         'password' : ''\n",
        "         'otp' : ''\n",
        "         'businesstype' : ''}\n",
        "r = requests.post( url=URL, data=data )\n",
        "\n",
        "r = "
      ],
      "execution_count": 0,
      "outputs": []
    },
    {
      "cell_type": "code",
      "metadata": {
        "colab_type": "code",
        "id": "Whe3KhcrxCl3",
        "colab": {}
      },
      "source": [
        "info_we_have = {}"
      ],
      "execution_count": 0,
      "outputs": []
    },
    {
      "cell_type": "code",
      "metadata": {
        "colab_type": "code",
        "id": "-ibS3SBHZZlR",
        "colab": {}
      },
      "source": [
        "def get_max_similarity(sentence, features) :\n",
        "  sentence_embeddings = model.encode(sentence)\n",
        "  feature_embeddings = model.encode(feature)\n",
        "  lis = []\n",
        "  for feature in feature_embeddings :\n",
        "    lis.append(np.dot(sentence_embeddings[0],feature))\n",
        "  i = lis.index(max(lis))\n",
        "  lis = sort(lis)\n",
        "  print(lis[0:5])\n",
        "  return features[i]  #Or return list of features accoding to some threshold\n",
        "\n",
        "def update_feature(s, val) :\n",
        "  info_we_have[s] = val\n",
        "\n",
        "def get_feature(s) :\n",
        "  if s in info_we_have.keys() :\n",
        "    return info_we_have[s]\n",
        "  return -1\n",
        "\n",
        "def kit_particular_details(sentence) :\n",
        "  lis = get_max_similarity(sentence, kit_details)\n",
        "  i = get_feature('kit_id') \n",
        "  kit = requests.get('23.22.237.185/zopperassure/kit/'+str(i))\n",
        "  kit_details = kit.json()\n",
        "  for feature in lis :\n",
        "    print(feature)\n",
        "    print(kit_details[feature])\n",
        "\n",
        "def warranty_particular_details(sentence) :\n",
        "  lis = get_max_similarity(sentence, warranty_details)\n",
        "  i = get_feature('kit_id') \n",
        "  kit = requests.get('23.22.237.185/zopperassure/kit/'+str(i))\n",
        "  kit_details = kit.json()\n",
        "  for feature in lis :\n",
        "    print(feature)\n",
        "    print(kit_details[feature])\n",
        "    \n",
        "    \n",
        "    \n",
        "def \n",
        "    \n",
        "\n",
        "list1 = []\n",
        "list2 = []\n",
        "def recur(data) :\n",
        "    if type(dic[data])!=dict :\n",
        "      list1+=data\n",
        "    else :\n",
        "      list1.append(recur(list(dic[data].keys())))\n",
        "    return list1\n",
        "    \n",
        "    \n",
        "def create(task_str):         # task_str: either warranty creation or claim registration\n",
        "  data_req = list(dic.get(task_str).keys())\n",
        "  req_str = \"\"\n",
        "  for data_r in data_req:\n",
        "    list2 += recur(data_r)\n",
        "    \n",
        "  for elem in list2 :\n",
        "    if elem not in info_we_have:\n",
        "      req_str += str(elem) + \"\\n\"\n",
        "  chatbot_reply('Please enter the following details: ' + req_str)\n",
        "  data = person_reply_data(req_str)\n",
        "  info_we_have += data\n",
        "  \n",
        "  # --- post request to create warranty using prev_data[cust_id] ------\n",
        "  \n",
        "  \n",
        "def chatbot_reply(tbw):\n",
        "  print(\"Customer Care: \", tbw)\n",
        "  return \n",
        "\n",
        "# def person_reply_data(req_str):\n",
        "#   req_objs = req_str.split(\" \")\n",
        "  \n",
        "  \n",
        "  \n",
        "  \n",
        "def sentence_matching(query, sentences):\n",
        "  query_emb = model.encode(query)\n",
        "  sentences_emb = model.encode(sentences)\n",
        "  dot_prods = []\n",
        "  for sent in sentences_emb:\n",
        "    dot_prods.append(np.dot(query_emb, sent))\n",
        "  \n",
        "  return sentences[dot_prods.index(max(dot_prods))]\n",
        "\n",
        "\n",
        "# def extract_all_data(sentence):\n",
        "  \n",
        "\n",
        "def store_info(key,value) :\n",
        "\n",
        "  "
      ],
      "execution_count": 0,
      "outputs": []
    },
    {
      "cell_type": "code",
      "metadata": {
        "colab_type": "code",
        "id": "eXW09AcCY3oK",
        "colab": {}
      },
      "source": [
        "warranty_listing = ['what all warranties are available', 'list all warranties', 'warranties list', 'I want all warranties', 'all warranties']\n",
        "warranty_details = ['tell me my warranty details', 'give me my warranty details', 'warranty details', 'I want my warranty info', 'information regarding my warranty']\n",
        "kit_details = ['give me my warranty kit details', 'information regarding my warranty kit', 'warranty kit', 'my warranty kit']\n",
        "register_claim = ['please register claim', 'claim registration', 'register claim', 'I want to register a claim', 'registering new claim']\n",
        "media_upload = ['upload media', 'upload a file', 'file uploading', 'please upload my file', 'submit a media file']\n",
        "media_download = ['I want to get my file', 'download my file', 'file downloading', 'please download a file for me', 'extract media file']\n",
        "warranty_creation = ['create a new warranty', 'i want to create new warranty', 'new warranty', 'new warranty creation', 'please form a warranty for me']\n",
        "\n",
        "sent_keys = list(dic.keys())\n",
        "sentences = [warranty_listing, warranty_details, kit_details, register_claim, media_upload, media_download, warranty_creation]"
      ],
      "execution_count": 0,
      "outputs": []
    },
    {
      "cell_type": "code",
      "metadata": {
        "id": "iooSznHGuIAy",
        "colab_type": "code",
        "colab": {
          "base_uri": "https://localhost:8080/",
          "height": 34
        },
        "outputId": "eb6f070f-9ebe-40ed-ccd3-7ff0d5badeea"
      },
      "source": [
        "type(dic)"
      ],
      "execution_count": 9,
      "outputs": [
        {
          "output_type": "execute_result",
          "data": {
            "text/plain": [
              "dict"
            ]
          },
          "metadata": {
            "tags": []
          },
          "execution_count": 9
        }
      ]
    },
    {
      "cell_type": "code",
      "metadata": {
        "colab_type": "code",
        "id": "SCl3TFn-TGFz",
        "colab": {}
      },
      "source": [
        "dic = {\n",
        "'warranty listing' : '',\n",
        "\n",
        "\"Search Warranty Details\" : {\n",
        "\t\t  \"store\" : {\n",
        "\t\t\t\"id\" : \"<INTEGER>\",\n",
        "\t\t\t\"distributor\" : \"<INTEGER\"\n",
        "\t\t  },\n",
        "\t\t  \"product\": {\n",
        "\t\t\t\"name\": \"<STRING>\",\n",
        "\t\t\t\"brand\": \"<STRING>\",\n",
        "\t\t\t\"category\": \"<STRING>\",\n",
        "\t\t\t\"serial number\": \"<STRING>\",\n",
        "\t\t\t\"purchase date\": \"<STRING>\", #YYYY-mm-dd\n",
        "\t\t\t\"invoice\": \"<STRING>\",\n",
        "\t\t\t\"invoice image\": \"<STRING-URL:>\",\n",
        "      \"category id\": \"<INTEGER: product-category-id>\",\n",
        "      \"warranty invoice\" : \"<STRING-URL:>\",\n",
        "#       ''extra info\": ''<JSON>\",\n",
        "      \"coverage\":\"<INTEGER>\"\n",
        "      },\n",
        "    \n",
        "\t\t\"warranty\" : {\n",
        "\t\t\t\"activation code\" : \"<STRING>\",\n",
        "\t\t\t\"type\" : \"<STRING>\",\n",
        "\t\t\t\"purchase date\": \"<STRING>\",\n",
        "\t\t\t\"start date\": \"<STRING>\",\n",
        "\t\t\t\"end date\": \"<STRING>\",\n",
        "\t\t\t\"duration months\": \"<INTEGER>\",\n",
        "\t\t\t\"price\": \"<FLOAT>\",\n",
        "\t\t\t\"active\": \"<INTEGER>\", #0 or 1\n",
        "\t\t\t\"verified\": \"<INTEGER>\", #0 or 1 or 2\n",
        "\t\t\t\"is zapp enable\": \"<INTEGER>\", #is-zapp-enable\n",
        "\t\t\t\"region_id\" : \"<STRING>\",\n",
        "\t\t\t\"coupon code\" : \"<STRING>\",\n",
        "\t\t\t\"rm id\": \"<INTEGER>\",\n",
        "\t\t\t\"extra info\": \"<JSON>\",\n",
        "\t\t\t\"endorsement no\": \"<STRING>\",\n",
        "      \"oem id\": \"<INTEGER>\",\n",
        "\t\t\t\"cancellation at\": \"<STRING>\",\n",
        "\t\t\t\"cacellation done by\": \"<STRING>\",\n",
        "\t\t\t\"discrepancy reason\": \"<STRING>\",\n",
        "\t\t\t\"cancellation reason\": \"<STRING>\",\n",
        "\t\t\t\"cancellation role\": \"<STRING>\", \n",
        "\t\t\t\"serial number\": \"<STRING>\",\n",
        "\t\t\t\"status\": \"<INTEGER>\", \n",
        "\t\t  \"store assigned at\" :\"<STRING>\",\n",
        "\t    \"distributor assigned at\" :\"<STRING>\",\n",
        "\t\t  \"brand warranty duration months\": \"<INTEGER>\"\n",
        "\t\t},\n",
        "\t\t\"customer\": {\n",
        "\t\t\t\"name\": \"<STRING>\",\n",
        "\t\t\t\"email\": \"<STRING>\",\n",
        "\t\t\t\"phone contact\": \"<STRING>\",\n",
        "\t\t\t\"city\": \"<STRING>\",\n",
        "\t\t\t\"state\": \"<STRING>\",\n",
        "\t\t\t\"address\": \"<STRING>\",\n",
        "\t\t\t\"extrainfo\": \"<JSON>\"\n",
        "\t\t},\n",
        "\n",
        "\t\t\"Insured\" : {\n",
        "\t\t\t\"name\": \"<STRING>\",\n",
        "\t\t\t\"premium\": \"<STRING>\",\n",
        "\t\t\t\"contact\": \"<STRING>\",\n",
        "\t\t\t\"assigned date\": \"<STRING>\",\n",
        "\t\t\t\"state\": \"<STRING>\"\n",
        "\t\t}\n",
        "\n",
        "\t},\n",
        "\"Kit Detail\" :{\n",
        "\t\"status\": \"<INTEGER>\",\n",
        "\t\"discrepant reason\": \"<STRING>\",\n",
        "\t\"purchase date\": \"<DATE>\",\n",
        "\t\"sold value total premium amount\": \"<FLOAT>\",\n",
        "\t\"sold by\": \"<INTEGER>\",\n",
        "\t\"duration months\": \"<INTEGER>\",\n",
        "\t\"distributor id\" : \"<INTEGER>\",\n",
        "\t\"store id\": \"<INTEGER>\",\n",
        "\t\"customer\": {\n",
        "\t\t\"name\": \"<STRING>\",\n",
        "\t\t\"phone\": \"<STRING>\",\n",
        "\t\t\"email\": \"<STRING>\",\n",
        "\t\t\"address\": \"<STRING>\",\n",
        "\t\t\"city\" : \"<INTEGER>\",\n",
        "\t\t\"pincode\": \"<INTEGER>\"\n",
        "\t}},\n",
        "\"Register your Claim\" : {\n",
        "    \"warranty\" : \"<Integer>\",\n",
        "    \"item\"     :  \"<Integer>\",\n",
        "    \"claim type\" : \"<Integer>\",\n",
        "    \"concern\"   :  \"<STRING>\",\n",
        "    \"voice url\" :   \"<String>\",\n",
        "    \"phone\"      :  \"<String>\",\n",
        "    \"address\"     : \"<String>\",\n",
        "    \"remarks\"      :  \"<String>\",\n",
        "    \"appointment\"   :   \"<Integer>\",\n",
        "    \"extra info\"     :   \"<Json>\",\n",
        "\t  \"product\": \t{\n",
        "\t\t\"category id\": \"<INTEGER>\",\n",
        "\t\t\"brand\": \"<StringINTEGER:brand-id/name>\",\n",
        "\t\t\"model\": \"<INTEGER:model-idSTRING: model-name>\",\t\t\t\n",
        "\t\t\"purchase date\": \"<DATE>\",\n",
        "\t\t\"serial number\": \"<STRING>\",\n",
        "\t\t\"invoice image\": \"<IMAGE>\",\n",
        "    \"mime type\": \"<IMAGE>\",\n",
        "\t\t\"invoice number\": \"<STRING>\",\n",
        "\t\t\"product price\": \"<FLOAT>\",\n",
        "\t},\n",
        "\t\"payment\": {\n",
        "\t\t\"transactionid\": \"<STRING>\"\n",
        "\t}\n",
        "},\n",
        "\n",
        "'media upload' : '',\n",
        "\n",
        "'media download' : '' ,\n",
        "\n",
        "'create new warranty' : {\n",
        "\t\"premium\": \"<FLOAT>\", \n",
        "\t\"duration months\": \"<INTEGER>\", \n",
        "\t\"store\" : \"<INTEGER>\",\n",
        "\t\"extra info\" : \"<JSON: extra-informations OPTIONAL>\",\n",
        "\t\"purchased on\": \"<DATE>\",\n",
        "\t\"activation code\" : \"<STRING OPTIONAL>\",\n",
        "\t\"seller\": \"<STRING: name_of_warranty_seller OPTIONAL>\",\n",
        "  \"extra images\": {\n",
        "\t\t\"<image desc>\": \"<STRING IMAGE-reference>\", \n",
        "\t},\n",
        "\t\"customer\": {\n",
        "\t\t\"name\": \"<STRING>\",\n",
        "\t\t\"phone\": \"<STRING>\",\n",
        "\t\t\"email\": \"<STRING>\",\n",
        "\t\t\"address\": \"<STRING>\",\n",
        "\t\t\"city\": \"<INTEGER>\",\n",
        "\t\t\"pincode\": \"<INTEGER>\"\n",
        "\t},\n",
        "\t\"product\": \t{\n",
        "    \"category\": \"<INTEGER>\",\t\n",
        "\t\t\"brand\": \"<STRING>\",\n",
        "\t\t\"model\": \"<STRING>\",\n",
        "\t\t\"purchase date\": \"<DATE>\",\n",
        "\t\t\"serial number\": \"<STRING:serial-number>\",\n",
        "\t\t\"invoice image\": \"<IMAGE:invoice-image>\",\n",
        "\t\t\"invoice number\": \"<STRING:invoice-number>\",\n",
        "\t\t\"price\": \"<FLOAT>\",\n",
        "    \"brand warranty duration months\": \"<INTEGER>\" #in months\t\t\n",
        "\t }\n",
        "  }\n",
        "}"
      ],
      "execution_count": 0,
      "outputs": []
    },
    {
      "cell_type": "code",
      "metadata": {
        "colab_type": "code",
        "id": "smpOSoRhagMN",
        "colab": {}
      },
      "source": [
        ""
      ],
      "execution_count": 0,
      "outputs": []
    }
  ]
}